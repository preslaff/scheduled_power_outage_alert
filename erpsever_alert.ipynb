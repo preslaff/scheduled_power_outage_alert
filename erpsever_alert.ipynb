{
 "cells": [
  {
   "cell_type": "code",
   "execution_count": 2,
   "id": "3e6958ee-970c-4044-8b5e-0ad54d948bb5",
   "metadata": {},
   "outputs": [],
   "source": [
    "import requests\n",
    "from bs4 import BeautifulSoup\n",
    "\n",
    "def check_interruptions(target_text):\n",
    "    url = 'https://www.energo-pro.bg/bg/planirani-prekysvanija'\n",
    "    response = requests.get(url)\n",
    "    if response.status_code == 200:\n",
    "        soup = BeautifulSoup(response.content, 'html.parser')\n",
    "        interruptions = soup.select('div.interruption-data ul#interruption_areas li[data-interuption=\"all_active\"] div.text')\n",
    "        \n",
    "        for interruption in interruptions:\n",
    "            if target_text in interruption.text:\n",
    "                print(interruption.text)\n",
    "    else:\n",
    "        print(f\"Failed to retrieve the webpage. Status code: {response.status_code}\")\n",
    "\n",
    "if __name__ == \"__main__\":\n",
    "    target_text = \"Паскалево\"\n",
    "    check_interruptions(target_text)"
   ]
  },
  {
   "cell_type": "code",
   "execution_count": null,
   "id": "a54d97be-d7c6-47e1-8b17-dc88fedf60ea",
   "metadata": {},
   "outputs": [],
   "source": []
  }
 ],
 "metadata": {
  "kernelspec": {
   "display_name": "Python 3 (ipykernel)",
   "language": "python",
   "name": "python3"
  },
  "language_info": {
   "codemirror_mode": {
    "name": "ipython",
    "version": 3
   },
   "file_extension": ".py",
   "mimetype": "text/x-python",
   "name": "python",
   "nbconvert_exporter": "python",
   "pygments_lexer": "ipython3",
   "version": "3.11.0"
  }
 },
 "nbformat": 4,
 "nbformat_minor": 5
}
